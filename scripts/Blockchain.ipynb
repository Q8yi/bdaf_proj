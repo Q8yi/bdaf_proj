{
 "cells": [
  {
   "cell_type": "code",
   "execution_count": 1,
   "id": "a0b32376-4435-4322-a700-2bbb285bb8dd",
   "metadata": {},
   "outputs": [],
   "source": [
    "import pandas as pd\n",
    "from dotenv import load_dotenv\n",
    "import os\n",
    "\n",
    "from datetime import datetime, timedelta\n",
    "import ast\n",
    "#pd.set_option('display.max_rows', None)\n",
    "#pd.set_option('display.max_colwidth', None)"
   ]
  },
  {
   "cell_type": "code",
   "execution_count": null,
   "id": "df0d4ece-7530-4936-8b40-8fd235aa00fd",
   "metadata": {},
   "outputs": [
    {
     "name": "stdout",
     "output_type": "stream",
     "text": [
      "1725297537\n",
      "1242825939\n"
     ]
    }
   ],
   "source": [
    "tweets = pd.read_csv(\"../datasets/tweets_all2.csv\")\n",
    "tweets['date'] = tweets['date'].map(lambda x : x[:19])\n",
    "\n",
    "tweets['date'] = pd.to_datetime(tweets['date'])\n",
    "\n",
    "ts1 = tweets.date.max()\n",
    "ts2 = tweets.date.min()\n",
    "\n",
    "# Convert to ISO 8601\n",
    "unix1 = int(ts1.timestamp())\n",
    "unix2 = int(ts2.timestamp())\n",
    "\n",
    "print(unix1)  # Output: '2024-09-02T17:18:57'\n",
    "print(unix2)"
   ]
  },
  {
   "cell_type": "code",
   "execution_count": 3,
   "id": "ad8e35c4-5907-4f9d-9887-593c32ea8abb",
   "metadata": {},
   "outputs": [],
   "source": [
    "interval = timedelta(days=1)\n",
    "timestamps = []\n",
    "\n",
    "current = ts2\n",
    "while current <= ts1:\n",
    "    timestamps.append(current)\n",
    "    current += interval\n",
    "\n",
    "# Optionally, print them as ISO strings\n",
    "iso_dates = [dt.isoformat() for dt in timestamps]\n",
    "#print(iso_dates)\n"
   ]
  },
  {
   "cell_type": "code",
   "execution_count": null,
   "id": "c03bfe8a-6bab-411c-bae8-b88cf7afb90e",
   "metadata": {
    "scrolled": true
   },
   "outputs": [],
   "source": [
    "'''\n",
    "unique_dates = tweets['date'].unique()\n",
    "interval = timedelta(days=5)\n",
    "timestamps = []\n",
    "\n",
    "for date in unique_dates:\n",
    "    timestamps.append(date)\n",
    "    timestamps.append(date + interval)\n",
    "\n",
    "timestamps.sort() #sort ascending\n",
    "# Optionally, print them as ISO strings\n",
    "iso_dates = [dt.isoformat() for dt in timestamps]\n",
    "#print(iso_dates)\n",
    "'''\n",
    "filtered_dates = [d for d in timestamps if d >= pd.Timestamp(2020, 1, 1)]\n",
    "#print(filtered_dates)\n"
   ]
  },
  {
   "cell_type": "code",
   "execution_count": 5,
   "id": "a470edab-f620-4211-9924-29b263cca094",
   "metadata": {
    "scrolled": true
   },
   "outputs": [
    {
     "data": {
      "text/plain": [
       "Timestamp('2009-05-20 13:25:39')"
      ]
     },
     "execution_count": 5,
     "metadata": {},
     "output_type": "execute_result"
    }
   ],
   "source": [
    "min(timestamps)"
   ]
  },
  {
   "cell_type": "code",
   "execution_count": 6,
   "id": "51e751a9-b081-403c-8643-f34ad863d8fc",
   "metadata": {},
   "outputs": [],
   "source": [
    "networks =[ 'eth', 'poly', 'avax', 'bsc', 'arb','opt', 'ftm', 'base', 'cro', 'aurora', 'celo', 'movr', 'linea', 'blast', 'mantle',  'one', 'fuse', 'sepolia', 'pulse']"
   ]
  },
  {
   "cell_type": "code",
   "execution_count": null,
   "id": "4b273062-f698-450e-a4fe-77f32baafa29",
   "metadata": {
    "scrolled": true
   },
   "outputs": [
    {
     "name": "stdout",
     "output_type": "stream",
     "text": [
      "Request failed: 403 {\"error\":{\"status\":403,\"type\":\"Forbidden\",\"message\":\"You have reached the guest limit. Use an api key to increase your request limit.\"}}\n",
      "Request failed: 403 {\"error\":{\"status\":403,\"type\":\"Forbidden\",\"message\":\"You have reached the guest limit. Use an api key to increase your request limit.\"}}\n",
      "Request failed: 403 {\"error\":{\"status\":403,\"type\":\"Forbidden\",\"message\":\"You have reached the guest limit. Use an api key to increase your request limit.\"}}\n",
      "Request failed: 403 {\"error\":{\"status\":403,\"type\":\"Forbidden\",\"message\":\"You have reached the guest limit. Use an api key to increase your request limit.\"}}\n",
      "Request failed: 403 {\"error\":{\"status\":403,\"type\":\"Forbidden\",\"message\":\"You have reached the guest limit. Use an api key to increase your request limit.\"}}\n",
      "Request failed: 403 {\"error\":{\"status\":403,\"type\":\"Forbidden\",\"message\":\"You have reached the guest limit. Use an api key to increase your request limit.\"}}\n",
      "Request failed: 403 {\"error\":{\"status\":403,\"type\":\"Forbidden\",\"message\":\"You have reached the guest limit. Use an api key to increase your request limit.\"}}\n",
      "Request failed: 403 {\"error\":{\"status\":403,\"type\":\"Forbidden\",\"message\":\"You have reached the guest limit. Use an api key to increase your request limit.\"}}\n",
      "Request failed: 403 {\"error\":{\"status\":403,\"type\":\"Forbidden\",\"message\":\"You have reached the guest limit. Use an api key to increase your request limit.\"}}\n",
      "Request failed: 403 {\"error\":{\"status\":403,\"type\":\"Forbidden\",\"message\":\"You have reached the guest limit. Use an api key to increase your request limit.\"}}\n",
      "Request failed: 403 {\"error\":{\"status\":403,\"type\":\"Forbidden\",\"message\":\"You have reached the guest limit. Use an api key to increase your request limit.\"}}\n",
      "Request failed: 403 {\"error\":{\"status\":403,\"type\":\"Forbidden\",\"message\":\"You have reached the guest limit. Use an api key to increase your request limit.\"}}\n",
      "Request failed: 403 {\"error\":{\"status\":403,\"type\":\"Forbidden\",\"message\":\"You have reached the guest limit. Use an api key to increase your request limit.\"}}\n",
      "Request failed: 403 {\"error\":{\"status\":403,\"type\":\"Forbidden\",\"message\":\"You have reached the guest limit. Use an api key to increase your request limit.\"}}\n",
      "Request failed: 403 {\"error\":{\"status\":403,\"type\":\"Forbidden\",\"message\":\"You have reached the guest limit. Use an api key to increase your request limit.\"}}\n",
      "Request failed: 403 {\"error\":{\"status\":403,\"type\":\"Forbidden\",\"message\":\"You have reached the guest limit. Use an api key to increase your request limit.\"}}\n",
      "Request failed: 403 {\"error\":{\"status\":403,\"type\":\"Forbidden\",\"message\":\"You have reached the guest limit. Use an api key to increase your request limit.\"}}\n",
      "Request failed: 403 {\"error\":{\"status\":403,\"type\":\"Forbidden\",\"message\":\"You have reached the guest limit. Use an api key to increase your request limit.\"}}\n",
      "Request failed: 403 {\"error\":{\"status\":403,\"type\":\"Forbidden\",\"message\":\"You have reached the guest limit. Use an api key to increase your request limit.\"}}\n"
     ]
    }
   ],
   "source": [
    "import requests\n",
    "\n",
    "# Parameters\n",
    "import requests\n",
    "import time\n",
    "from datetime import datetime\n",
    "\n",
    "API_KEY = os.getenv('OWL_API')\n",
    "\n",
    "# Convert human-readable dates to UNIX timestamps (in milliseconds)\n",
    "#from_date = [int(datetime(2024, 1, 1).timestamp() * 1000), int(datetime(2023, 1, 1).timestamp() * 1000)]\n",
    "#to_date = [int(datetime(2024, 9, 2).timestamp() * 1000), int(datetime(2023, 12, 31).timestamp() * 1000)]\n",
    "\n",
    "#from_date = int(datetime(2009, 5, 20).timestamp() )\n",
    "#to_date = int(datetime(2024, 9, 2).timestamp() )\n",
    "\n",
    "# URL and parameters\n",
    "import requests\n",
    "\n",
    "for network in networks:\n",
    "    merged = None\n",
    "    for x in range(0, len(filtered_dates), 2):\n",
    "        unix2 = int(timestamps[x].timestamp())\n",
    "        unix1 = int(timestamps[x+1].timestamp())\n",
    "        url = f'https://api.owlracle.info/v4/{network}/history?from={unix2}&to={unix1}&tokenprice=true&txfee=true'\n",
    "        response = requests.request('GET', url)\n",
    "\n",
    "        if response.status_code == 200:\n",
    "            data = response.json()\n",
    "            #print(data)\n",
    "            df = pd.DataFrame(data['candles'])\n",
    "            if (data['candles'] != []) :\n",
    "                df2 = pd.json_normalize(df['tokenPrice']).add_prefix('tokenPrice_')\n",
    "\n",
    "                df3 = pd.json_normalize(df['txFee']).add_prefix('txFee_')\n",
    "\n",
    "                df4 = pd.json_normalize(df['gasPrice']).add_prefix('gasPrice_')\n",
    "\n",
    "                to_merge = pd.concat([df, df2, df3, df4], axis=1).drop(columns=['tokenPrice', 'txFee', 'gasPrice'])\n",
    "                to_merge['token_name'] = f'{network}'\n",
    "                to_merge.to_csv(f\"{network}_{unix2}to{unix1}_second.csv\")\n",
    "\n",
    "                if (merged is None):\n",
    "                    merged = to_merge\n",
    "                else:\n",
    "                    merged = pd.concat([merged, to_merge], ignore_index=True, sort=False)\n",
    "        else:\n",
    "            print(\"Request failed:\", response.status_code, response.text)\n",
    "            break\n",
    "    if (merged is not None):\n",
    "        merged.to_csv(f\"{network}_all2.csv\")\n"
   ]
  },
  {
   "cell_type": "code",
   "execution_count": null,
   "id": "7f022cbd-d46d-43f3-ada4-9e46d6dae6a5",
   "metadata": {},
   "outputs": [
    {
     "ename": "SyntaxError",
     "evalue": "unexpected EOF while parsing (1450739546.py, line 1)",
     "output_type": "error",
     "traceback": [
      "\u001b[1;36m  File \u001b[1;32m\"C:\\Users\\qiavo\\AppData\\Local\\Temp\\ipykernel_22548\\1450739546.py\"\u001b[1;36m, line \u001b[1;32m1\u001b[0m\n\u001b[1;33m    a = pd.read_csv(\"\"\u001b[0m\n\u001b[1;37m                      ^\u001b[0m\n\u001b[1;31mSyntaxError\u001b[0m\u001b[1;31m:\u001b[0m unexpected EOF while parsing\n"
     ]
    }
   ],
   "source": [
    "a = pd.read_csv(\"\")"
   ]
  },
  {
   "cell_type": "code",
   "execution_count": null,
   "id": "cd7206e4-8da2-44fa-9229-9cd2719f156c",
   "metadata": {},
   "outputs": [],
   "source": [
    "'''\n",
    "for network in networks2:\n",
    "    merged = None\n",
    "    for x in range(0, len(timestamps), 2):\n",
    "        unix2 = int(timestamps[x].timestamp())\n",
    "        unix1 = int(timestamps[x+1].timestamp())\n",
    "        url = f'https://api.owlracle.info/v4/{network}/history?from={unix2}&to={unix1}&tokenprice=true&txfee=true'\n",
    "        response = requests.request('GET', url)\n",
    "\n",
    "        if response.status_code == 200:\n",
    "            data = response.json()\n",
    "            #print(data)\n",
    "            df = pd.DataFrame(data['candles'])\n",
    "            if (data['candles'] != []) :\n",
    "                df2 = pd.json_normalize(df['tokenPrice']).add_prefix('tokenPrice_')\n",
    "\n",
    "                df3 = pd.json_normalize(df['txFee']).add_prefix('txFee_')\n",
    "\n",
    "                df4 = pd.json_normalize(df['gasPrice']).add_prefix('gasPrice_')\n",
    "\n",
    "                to_merge = pd.concat([df, df2, df3, df4], axis=1).drop(columns=['tokenPrice', 'txFee', 'gasPrice'])\n",
    "                to_merge['token_name'] = f'{network}'\n",
    "                to_merge.to_csv(f\"{network}_{unix2}to{unix1}.csv\")\n",
    "\n",
    "                if (merged is None):\n",
    "                    merged = to_merge\n",
    "                else:\n",
    "                    merged = pd.concat([merged, to_merge], ignore_index=True, sort=False)\n",
    "        else:\n",
    "            print(\"Request failed:\", response.status_code, response.text)\n",
    "            break\n",
    "    merged.to_csv(f\"{network}_all.csv\")\n",
    "'''"
   ]
  },
  {
   "cell_type": "code",
   "execution_count": null,
   "id": "81f6abd3-7472-456b-87df-a30612a75a08",
   "metadata": {},
   "outputs": [],
   "source": [
    "x"
   ]
  },
  {
   "cell_type": "code",
   "execution_count": null,
   "id": "376eb535-e0f8-4701-b5db-38dbf55a0840",
   "metadata": {},
   "outputs": [],
   "source": [
    "df2 = pd.json_normalize(df['tokenPrice']).add_prefix('tokenPrice_')\n",
    "df2"
   ]
  },
  {
   "cell_type": "code",
   "execution_count": null,
   "id": "40753aa0-fce5-4025-a321-2709be100500",
   "metadata": {},
   "outputs": [],
   "source": [
    "x, len(timestamps)"
   ]
  },
  {
   "cell_type": "code",
   "execution_count": null,
   "id": "fef39230-6eae-4337-82ba-6138c892823a",
   "metadata": {},
   "outputs": [],
   "source": [
    "pd.DataFrame(data['candles']).to_csv(f\"{unix2}to{unix1}.csv\")"
   ]
  },
  {
   "cell_type": "code",
   "execution_count": null,
   "id": "ccd395a7-0480-42eb-8f0f-79f3cad59b68",
   "metadata": {},
   "outputs": [],
   "source": [
    "unix2"
   ]
  },
  {
   "cell_type": "code",
   "execution_count": null,
   "id": "daf3f3ae-b3b8-4b8a-9b42-81f2b84d300a",
   "metadata": {
    "scrolled": true
   },
   "outputs": [],
   "source": [
    "data['candles']"
   ]
  },
  {
   "cell_type": "code",
   "execution_count": null,
   "id": "437e3577-f5f3-4216-ac9e-ca1e51d8d6b0",
   "metadata": {},
   "outputs": [],
   "source": [
    "from_date = int(datetime(2024, 5, 20).timestamp() )\n",
    "to_date = int(datetime(2024, 9, 2).timestamp() )\n",
    "from_date"
   ]
  },
  {
   "cell_type": "code",
   "execution_count": null,
   "id": "19a6e324-253d-471a-842d-6082810983ca",
   "metadata": {},
   "outputs": [],
   "source": [
    "data = data['candles']\n",
    "'''\n",
    "flattened_data = {\n",
    "    'gasPrice_open': data['gasPrice']['open'],\n",
    "    'gasPrice_close': data['gasPrice']['close'],\n",
    "    'gasPrice_low': data['gasPrice']['low'],\n",
    "    'gasPrice_high': data['gasPrice']['high'],\n",
    "    'txFee_open': data['txFee']['open'],\n",
    "    'txFee_close': data['txFee']['close'],\n",
    "    'txFee_low': data['txFee']['low'],\n",
    "    'txFee_high': data['txFee']['high'],\n",
    "    'tokenPrice_open': data['tokenPrice']['open'],\n",
    "    'tokenPrice_close': data['tokenPrice']['close'],\n",
    "    'tokenPrice_low': data['tokenPrice']['low'],\n",
    "    'tokenPrice_high': data['tokenPrice']['high'],\n",
    "    'avgGas': data['avgGas'],\n",
    "    'timestamp': data['timestamp'],\n",
    "    'samples': data['samples']\n",
    "}\n",
    "'''\n",
    "# Convert to a DataFrame\n",
    "df = pd.DataFrame(data)\n",
    "df\n",
    "# Save as Parquet\n",
    "#df.to_parquet('eth_gas_snapshot.parquet', engine='pyarrow', index=False)\n"
   ]
  },
  {
   "cell_type": "code",
   "execution_count": null,
   "id": "b6e0b327-c7f4-4ec7-b237-e3def7053494",
   "metadata": {},
   "outputs": [],
   "source": [
    "directory = 'eth_data'\n",
    "merged_df = None\n",
    "\n",
    "for filename in os.listdir(directory):\n",
    "    file_path = os.path.join(directory, filename)\n",
    "\n",
    "    if os.path.isfile(file_path):\n",
    "        print(filename)\n",
    "        df = pd.read_csv(file_path)\n",
    "        merged_df = pd.concat([merged_df, df], ignore_index=True, sort=False)\n",
    "        merged_df.reset_index(drop=True, inplace=True)\n",
    "        print(df.shape)\n",
    "        print(merged_df.shape)"
   ]
  },
  {
   "cell_type": "code",
   "execution_count": null,
   "id": "f93cf9b2-d621-4254-aca9-344099164d60",
   "metadata": {},
   "outputs": [],
   "source": [
    "merged_df\n",
    "\n",
    "# Expand the dictionary into separate columns\n",
    "df2 = pd.json_normalize(merged_df['tokenPrice'].map(ast.literal_eval)).add_prefix('tokenPrice_')\n",
    "df2\n",
    "df3 = pd.json_normalize(merged_df['txFee'].map(ast.literal_eval)).add_prefix('txFee_')\n",
    "\n",
    "df = pd.json_normalize(merged_df['gasPrice'].map(ast.literal_eval)).add_prefix('gasPrice_')\n",
    "\n",
    "merged_df = pd.concat([merged_df, df2, df3, df], axis=1).drop(columns=['tokenPrice', 'txFee', 'gasPrice'])\n",
    "merged_df['token_name'] = 'ETH'"
   ]
  },
  {
   "cell_type": "code",
   "execution_count": null,
   "id": "f034094c-79fe-4b96-8885-9fd4c78d1877",
   "metadata": {},
   "outputs": [],
   "source": [
    "merged_df.shape, merged_df.drop(columns=['Unnamed: 0'], inplace=True)"
   ]
  },
  {
   "cell_type": "code",
   "execution_count": null,
   "id": "e40c8c44-2aff-4b4c-92f2-defc2d0a7aaa",
   "metadata": {},
   "outputs": [],
   "source": [
    "merged_df.to_csv(\"eth_all.csv\")"
   ]
  },
  {
   "cell_type": "code",
   "execution_count": null,
   "id": "1f813ff6-21d9-4494-a8db-48301f6a017d",
   "metadata": {},
   "outputs": [],
   "source": [
    "'''\n",
    "import requests\n",
    "from dotenv import load_dotenv\n",
    "import os\n",
    "\n",
    "load_dotenv()\n",
    "\n",
    "API_KEY = os.getenv('COIN_API')\n",
    "\n",
    "url = \"https://rest.coinapi.io/v1/ohlcv/BTC/history\"\n",
    "\n",
    "payload = {}\n",
    "headers = {\n",
    "  'Accept': 'text/plain',\n",
    "  'X-CoinAPI-Key': COIN_API\n",
    "}\n",
    "\n",
    "response = requests.request(\"GET\", url, headers=headers, data=payload)\n",
    "\n",
    "print(response.text)\n",
    "\n",
    "#const API_KEY = \"YOUR_API_KEY_HERE\";\n",
    "import requests\n",
    "\n",
    "def fetch_ohlcv():\n",
    "    url = \"https://rest.coinapi.io/v1/ohlcv/BINANCE_SPOT_ETH_BTC/history?period_id=1MTH&time_start=2023-03-01T00:00:00\"\n",
    "    headers = { \"X-CoinAPI-Key\": API_KEY }\n",
    "\n",
    "    response = requests.get(url, headers=headers)\n",
    "\n",
    "    # Check if the response is successful\n",
    "    if response.status_code == 200:\n",
    "        if response.content:\n",
    "            return response.json()\n",
    "        else:\n",
    "            print(\"Response is empty.\")\n",
    "            return None\n",
    "    else:\n",
    "        # Handle other HTTP status codes\n",
    "        print(f\"Failed to fetch data. Status code: {response.status_code}\")\n",
    "        return None\n",
    "\n",
    "print(fetch_ohlcv())\n",
    "'''\n",
    "'''\n",
    "API_KEY = os.getenv('ETHERSCAN_API')  # Replace with your actual API key\n",
    "base_url = 'https://api.etherscan.io/v2/api'\n",
    "\n",
    "params = {\n",
    "    'chainid': 1,\n",
    "    'module': 'stats',\n",
    "    'action': 'dailyavggasprice',  # ethdailyprice\n",
    "    'startdate': '2019-02-01',\n",
    "    'enddate': '2019-02-28',\n",
    "    'sort': 'asc',\n",
    "    'apikey': API_KEY\n",
    "}\n",
    "\n",
    "# Make the request\n",
    "response = requests.get(base_url, params=params)\n",
    "\n",
    "# Parse the JSON\n",
    "if response.status_code == 200:\n",
    "    data = response.json()\n",
    "    print(data)\n",
    "else:\n",
    "    print(\"Request failed:\", response.status_code, response.text)\n",
    "'''"
   ]
  }
 ],
 "metadata": {
  "kernelspec": {
   "display_name": "Python 3 (ipykernel)",
   "language": "python",
   "name": "python3"
  },
  "language_info": {
   "codemirror_mode": {
    "name": "ipython",
    "version": 3
   },
   "file_extension": ".py",
   "mimetype": "text/x-python",
   "name": "python",
   "nbconvert_exporter": "python",
   "pygments_lexer": "ipython3",
   "version": "3.9.19"
  }
 },
 "nbformat": 4,
 "nbformat_minor": 5
}
